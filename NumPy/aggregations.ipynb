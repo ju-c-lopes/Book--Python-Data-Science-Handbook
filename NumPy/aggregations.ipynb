{
 "cells": [
  {
   "cell_type": "markdown",
   "id": "b78b4760-b530-4e2e-894c-56c9862ec368",
   "metadata": {},
   "source": [
    "# Summing the Values in an Array"
   ]
  },
  {
   "cell_type": "code",
   "execution_count": 1,
   "id": "bf9b9bf1-9513-45ca-bf50-423dbdd4a472",
   "metadata": {},
   "outputs": [],
   "source": [
    "import numpy as np"
   ]
  },
  {
   "cell_type": "code",
   "execution_count": 2,
   "id": "f357463d-ba6f-493b-923b-7431e03488e8",
   "metadata": {},
   "outputs": [
    {
     "data": {
      "text/plain": [
       "51.5127444804033"
      ]
     },
     "execution_count": 2,
     "metadata": {},
     "output_type": "execute_result"
    }
   ],
   "source": [
    "L = np.random.random(100)\n",
    "sum(L)"
   ]
  },
  {
   "cell_type": "code",
   "execution_count": 3,
   "id": "20605020-7da6-4dfe-b85c-a4c61909b660",
   "metadata": {},
   "outputs": [
    {
     "data": {
      "text/plain": [
       "51.5127444804033"
      ]
     },
     "execution_count": 3,
     "metadata": {},
     "output_type": "execute_result"
    }
   ],
   "source": [
    "np.sum(L)"
   ]
  },
  {
   "cell_type": "code",
   "execution_count": 4,
   "id": "4f2acccd-a7ea-48e3-81a4-a42ebd87f2ea",
   "metadata": {},
   "outputs": [
    {
     "name": "stdout",
     "output_type": "stream",
     "text": [
      "47.4 ms ± 228 µs per loop (mean ± std. dev. of 7 runs, 10 loops each)\n",
      "220 µs ± 3.87 µs per loop (mean ± std. dev. of 7 runs, 1000 loops each)\n"
     ]
    }
   ],
   "source": [
    "big_array = np.random.rand(1000000)\n",
    "%timeit sum(big_array)\n",
    "%timeit np.sum(big_array)"
   ]
  },
  {
   "cell_type": "code",
   "execution_count": 5,
   "id": "9deda60d-da28-4bfa-95de-2a8d1f45fbc0",
   "metadata": {},
   "outputs": [
    {
     "data": {
      "text/plain": [
       "(5.298916547769039e-07, 0.999998624635633)"
      ]
     },
     "execution_count": 5,
     "metadata": {},
     "output_type": "execute_result"
    }
   ],
   "source": [
    "min(big_array), max(big_array)"
   ]
  },
  {
   "cell_type": "code",
   "execution_count": 6,
   "id": "9730e267-2e9f-4fd1-bc45-3f8813c8473f",
   "metadata": {},
   "outputs": [
    {
     "data": {
      "text/plain": [
       "(5.298916547769039e-07, 0.999998624635633)"
      ]
     },
     "execution_count": 6,
     "metadata": {},
     "output_type": "execute_result"
    }
   ],
   "source": [
    "np.min(big_array), np.max(big_array)"
   ]
  },
  {
   "cell_type": "code",
   "execution_count": 7,
   "id": "785cc73c-cdc1-44eb-beba-50b76ba4e010",
   "metadata": {},
   "outputs": [
    {
     "name": "stdout",
     "output_type": "stream",
     "text": [
      "31.6 ms ± 461 µs per loop (mean ± std. dev. of 7 runs, 10 loops each)\n",
      "347 µs ± 5.07 µs per loop (mean ± std. dev. of 7 runs, 1000 loops each)\n"
     ]
    }
   ],
   "source": [
    "%timeit min(big_array)\n",
    "%timeit np.min(big_array)"
   ]
  },
  {
   "cell_type": "code",
   "execution_count": 8,
   "id": "2bc67d9b-23ed-4b86-85a3-848e31bb06fe",
   "metadata": {},
   "outputs": [
    {
     "name": "stdout",
     "output_type": "stream",
     "text": [
      "5.298916547769039e-07 0.999998624635633 500049.2245583828\n"
     ]
    }
   ],
   "source": [
    "print(big_array.min(), big_array.max(), big_array.sum())"
   ]
  },
  {
   "cell_type": "markdown",
   "id": "a05b4875-0553-4f6d-b695-7398507acaa4",
   "metadata": {},
   "source": [
    "## Multi dimensional aggregates"
   ]
  },
  {
   "cell_type": "code",
   "execution_count": 9,
   "id": "0403c0fc-71c0-478f-a003-d1c519ae0dba",
   "metadata": {},
   "outputs": [
    {
     "name": "stdout",
     "output_type": "stream",
     "text": [
      "[[0.99380911 0.9380427  0.55937327 0.9118807 ]\n",
      " [0.88165583 0.83239992 0.66277042 0.74291188]\n",
      " [0.21110142 0.94545812 0.99352242 0.38750399]]\n"
     ]
    }
   ],
   "source": [
    "M = np.random.random((3, 4))\n",
    "print(M)"
   ]
  },
  {
   "cell_type": "code",
   "execution_count": 10,
   "id": "6b4d5dbc-20f2-4252-8ac1-33d7c53aac6c",
   "metadata": {},
   "outputs": [
    {
     "data": {
      "text/plain": [
       "9.060429771425142"
      ]
     },
     "execution_count": 10,
     "metadata": {},
     "output_type": "execute_result"
    }
   ],
   "source": [
    "M.sum()"
   ]
  },
  {
   "cell_type": "code",
   "execution_count": 11,
   "id": "e19d6df2-3f87-4cf5-b49c-3ecde15286c8",
   "metadata": {},
   "outputs": [
    {
     "data": {
      "text/plain": [
       "array([0.21110142, 0.83239992, 0.55937327, 0.38750399])"
      ]
     },
     "execution_count": 11,
     "metadata": {},
     "output_type": "execute_result"
    }
   ],
   "source": [
    "M.min(axis=0)"
   ]
  },
  {
   "cell_type": "code",
   "execution_count": 12,
   "id": "f5f0799e-461c-4dc0-956f-47723c5a7dce",
   "metadata": {},
   "outputs": [
    {
     "data": {
      "text/plain": [
       "array([0.99380911, 0.88165583, 0.99352242])"
      ]
     },
     "execution_count": 12,
     "metadata": {},
     "output_type": "execute_result"
    }
   ],
   "source": [
    "M.max(axis=1)"
   ]
  },
  {
   "cell_type": "code",
   "execution_count": 14,
   "id": "8355a3c0-ba4f-42e8-aed0-109df25fe58d",
   "metadata": {},
   "outputs": [
    {
     "name": "stdout",
     "output_type": "stream",
     "text": [
      "order,name,height(cm)\n",
      "1,George Washington,189\n",
      "2,John Adams,170\n",
      "3,Thomas Jefferson,189\n"
     ]
    }
   ],
   "source": [
    "!head -4 ~/Documents/data/president_heights.csv"
   ]
  },
  {
   "cell_type": "code",
   "execution_count": 16,
   "id": "645b3abb-043a-4849-98ae-30c502a791a2",
   "metadata": {},
   "outputs": [
    {
     "name": "stdout",
     "output_type": "stream",
     "text": [
      "[189 170 189 163 183 171 185 168 173 183 173 173 175 178 183 193 178 173\n",
      " 174 183 183 168 170 178 182 180 183 178 182 188 175 179 183 193 182 183\n",
      " 177 185 188 188 182 185]\n"
     ]
    }
   ],
   "source": [
    "import pandas as pd\n",
    "data = pd.read_csv('/home/juclops/Documents/data/president_heights.csv')\n",
    "heights = np.array(data['height(cm)'])\n",
    "print(heights)"
   ]
  },
  {
   "cell_type": "code",
   "execution_count": 17,
   "id": "85a0d140-95ad-4187-a586-b6225521ff09",
   "metadata": {},
   "outputs": [
    {
     "name": "stdout",
     "output_type": "stream",
     "text": [
      "Mean height:         179.73809523809524\n",
      "Standard deviation:  6.931843442745892\n",
      "Minimun height:      163\n",
      "Maximun height:      193\n"
     ]
    }
   ],
   "source": [
    "print(\"Mean height:        \", heights.mean())\n",
    "print(\"Standard deviation: \", heights.std())\n",
    "print(\"Minimun height:     \", heights.min())\n",
    "print(\"Maximun height:     \", heights.max())"
   ]
  },
  {
   "cell_type": "code",
   "execution_count": 18,
   "id": "97e9dfb9-5f2a-4931-8d4e-410634c0642a",
   "metadata": {},
   "outputs": [
    {
     "name": "stdout",
     "output_type": "stream",
     "text": [
      "25th percentile:    174.25\n",
      "Median:             182.0\n",
      "75th percentile:    183.0\n"
     ]
    }
   ],
   "source": [
    "print(\"25th percentile:   \", np.percentile(heights, 25))\n",
    "print(\"Median:            \", np.median(heights))\n",
    "print(\"75th percentile:   \", np.percentile(heights, 75))"
   ]
  },
  {
   "cell_type": "code",
   "execution_count": 19,
   "id": "6e724ebb-bbef-46bd-a382-f1fef1cfd474",
   "metadata": {},
   "outputs": [
    {
     "name": "stderr",
     "output_type": "stream",
     "text": [
      "/home/juclops/anaconda3/envs/ds-univesp/lib/python3.9/site-packages/scipy/__init__.py:146: UserWarning: A NumPy version >=1.16.5 and <1.23.0 is required for this version of SciPy (detected version 1.23.5\n",
      "  warnings.warn(f\"A NumPy version >={np_minversion} and <{np_maxversion}\"\n"
     ]
    }
   ],
   "source": [
    "%matplotlib inline\n",
    "import matplotlib.pyplot as plt\n",
    "import seaborn; seaborn.set()  # set plot style"
   ]
  },
  {
   "cell_type": "code",
   "execution_count": 20,
   "id": "a54785c4-6583-4c89-bd7f-440dfe489c37",
   "metadata": {},
   "outputs": [
    {
     "data": {
      "image/png": "[encoded data removed]",
      "text/plain": [
       "<Figure size 640x480 with 1 Axes>"
      ]
     },
     "metadata": {},
     "output_type": "display_data"
    }
   ],
   "source": [
    "plt.hist(heights)\n",
    "plt.title('Height Distribution of US Presidents')\n",
    "plt.xlabel('height (cm)')\n",
    "plt.ylabel('number');"
   ]
  },
  {
   "cell_type": "code",
   "execution_count": null,
   "id": "e5b09cb0-760f-4ab5-b8c7-c805f35cece5",
   "metadata": {},
   "outputs": [],
   "source": []
  }
 ],
 "metadata": {
  "kernelspec": {
   "display_name": "Python 3 (ipykernel)",
   "language": "python",
   "name": "python3"
  },
  "language_info": {
   "codemirror_mode": {
    "name": "ipython",
    "version": 3
   },
   "file_extension": ".py",
   "mimetype": "text/x-python",
   "name": "python",
   "nbconvert_exporter": "python",
   "pygments_lexer": "ipython3",
   "version": "3.9.15"
  }
 },
 "nbformat": 4,
 "nbformat_minor": 5
}
