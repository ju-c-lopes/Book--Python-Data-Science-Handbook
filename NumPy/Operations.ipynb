{
 "cells": [
  {
   "cell_type": "markdown",
   "id": "7ae3afcc-4d49-4f3b-a3ed-a7400b07c326",
   "metadata": {},
   "source": [
    "# The Slowness of Loops"
   ]
  },
  {
   "cell_type": "code",
   "execution_count": 1,
   "id": "06d2ab3b-3f7d-4662-9952-4be3bae6fd3b",
   "metadata": {},
   "outputs": [
    {
     "data": {
      "text/plain": [
       "array([0.16666667, 1.        , 0.25      , 0.25      , 0.125     ])"
      ]
     },
     "execution_count": 1,
     "metadata": {},
     "output_type": "execute_result"
    }
   ],
   "source": [
    "import numpy as np\n",
    "np.random.seed(0)\n",
    "\n",
    "def compute_reciprocals(values):\n",
    "    output = np.empty(len(values))\n",
    "    for i in range(len(values)):\n",
    "        output[i] = 1.0 / values[i]\n",
    "    return output\n",
    "\n",
    "values = np.random.randint(1, 10, size=5)\n",
    "compute_reciprocals(values)"
   ]
  },
  {
   "cell_type": "code",
   "execution_count": 2,
   "id": "5afb006a-43b8-4dad-b9b8-e8f5ebc28e46",
   "metadata": {},
   "outputs": [
    {
     "name": "stdout",
     "output_type": "stream",
     "text": [
      "1.16 s ± 29.3 ms per loop (mean ± std. dev. of 7 runs, 1 loop each)\n"
     ]
    }
   ],
   "source": [
    "big_array = np.random.randint(1, 100, size=1000000)\n",
    "%timeit compute_reciprocals(big_array)"
   ]
  },
  {
   "cell_type": "code",
   "execution_count": 3,
   "id": "5406a3f9-5fd6-4e3c-909d-ae91d228ca1f",
   "metadata": {},
   "outputs": [
    {
     "name": "stdout",
     "output_type": "stream",
     "text": [
      "[0.16666667 1.         0.25       0.25       0.125     ]\n",
      "[0.16666667 1.         0.25       0.25       0.125     ]\n"
     ]
    }
   ],
   "source": [
    "print(compute_reciprocals(values))\n",
    "print(1.0 / values)"
   ]
  },
  {
   "cell_type": "code",
   "execution_count": 4,
   "id": "ebe1daa6-6a63-4d76-ac6f-1fc20fba081b",
   "metadata": {},
   "outputs": [
    {
     "name": "stdout",
     "output_type": "stream",
     "text": [
      "1.13 ms ± 81.2 µs per loop (mean ± std. dev. of 7 runs, 1000 loops each)\n"
     ]
    }
   ],
   "source": [
    "%timeit (1.0 / big_array)"
   ]
  },
  {
   "cell_type": "code",
   "execution_count": 5,
   "id": "04c8811f-5d69-4ba4-8289-8d80266663a8",
   "metadata": {},
   "outputs": [
    {
     "data": {
      "text/plain": [
       "array([0.        , 0.5       , 0.66666667, 0.75      , 0.8       ])"
      ]
     },
     "execution_count": 5,
     "metadata": {},
     "output_type": "execute_result"
    }
   ],
   "source": [
    "np.arange(5) / np.arange(1, 6)"
   ]
  },
  {
   "cell_type": "code",
   "execution_count": 6,
   "id": "1d06c390-7c01-4436-98c8-a6dad40b702c",
   "metadata": {},
   "outputs": [
    {
     "data": {
      "text/plain": [
       "array([[  1,   2,   4],\n",
       "       [  8,  16,  32],\n",
       "       [ 64, 128, 256]])"
      ]
     },
     "execution_count": 6,
     "metadata": {},
     "output_type": "execute_result"
    }
   ],
   "source": [
    "x = np.arange(9).reshape((3, 3))\n",
    "2 ** x"
   ]
  },
  {
   "cell_type": "markdown",
   "id": "1fd5b9f6-7c8e-4f46-bf28-5463a057983f",
   "metadata": {},
   "source": [
    "# Exploring NumPy's UFuncs"
   ]
  },
  {
   "cell_type": "markdown",
   "id": "54c9875f-f043-4841-b4aa-17ae762de7c6",
   "metadata": {},
   "source": [
    "## Array arithmetic"
   ]
  },
  {
   "cell_type": "code",
   "execution_count": 7,
   "id": "1843f66e-b9aa-4244-9b2c-45ea7fcf63c2",
   "metadata": {},
   "outputs": [
    {
     "name": "stdout",
     "output_type": "stream",
     "text": [
      "x     =  [0 1 2 3]\n",
      "x + 5 =  [5 6 7 8]\n",
      "x - 5 =  [-5 -4 -3 -2]\n",
      "x * 2 =  [0 2 4 6]\n",
      "x / 2 =  [0.  0.5 1.  1.5]\n",
      "x // 2 =  [0 0 1 1]\n"
     ]
    }
   ],
   "source": [
    "x = np.arange(4)\n",
    "print(\"x     = \", x)\n",
    "print(\"x + 5 = \", x + 5)\n",
    "print(\"x - 5 = \", x - 5)\n",
    "print(\"x * 2 = \", x * 2)\n",
    "print(\"x / 2 = \", x / 2)\n",
    "print(\"x // 2 = \", x // 2)  # floor division"
   ]
  },
  {
   "cell_type": "code",
   "execution_count": 8,
   "id": "f4c754f0-3def-4801-a5ec-3fe78bdb8955",
   "metadata": {},
   "outputs": [
    {
     "name": "stdout",
     "output_type": "stream",
     "text": [
      "-x     =  [ 0 -1 -2 -3]\n",
      "x ** 2 =  [0 1 4 9]\n",
      "x % 2  =  [0 1 0 1]\n"
     ]
    }
   ],
   "source": [
    "print(\"-x     = \", -x)\n",
    "print(\"x ** 2 = \", x ** 2)\n",
    "print(\"x % 2  = \", x % 2)"
   ]
  },
  {
   "cell_type": "code",
   "execution_count": 9,
   "id": "34b3b4b1-cf4e-4817-8989-ef953dd27370",
   "metadata": {},
   "outputs": [
    {
     "data": {
      "text/plain": [
       "array([-1.  , -2.25, -4.  , -6.25])"
      ]
     },
     "execution_count": 9,
     "metadata": {},
     "output_type": "execute_result"
    }
   ],
   "source": [
    "-(0.5*x + 1) ** 2"
   ]
  },
  {
   "cell_type": "code",
   "execution_count": 10,
   "id": "a53fffa9-5578-455b-8c51-09b4e29abe3d",
   "metadata": {},
   "outputs": [
    {
     "data": {
      "text/plain": [
       "array([2, 3, 4, 5])"
      ]
     },
     "execution_count": 10,
     "metadata": {},
     "output_type": "execute_result"
    }
   ],
   "source": [
    "np.add(x, 2)"
   ]
  },
  {
   "cell_type": "markdown",
   "id": "c9995c8b-6ad2-4d96-a814-f180433b5a23",
   "metadata": {},
   "source": [
    "\\+   np.add            Addition (e.g., 1 + 1 = 2)<br>\n",
    "\\-   np.subtract       Subtraction (e.g., 3 - 2 = 1)<br>\n",
    "\\-   np.negative       Unary negation (e.g., -2<br>\n",
    "\\*   np.multiply       Multiplication (e.g., 2 * 3 = 6)<br>\n",
    "\\/   np.divide         Division (e.g., 3 / 2 = 1.5)<br>\n",
    "\\//  np.floor_divide   Floor division (e.g., 3 // 2 = 1)<br>\n",
    "\\**  np.power          Exponentiation (e.g., 2 ** 3 = 8)<br>\n",
    "\\%   np.mod            Modulus/remainder (e.g., 9 % 4 = 1)"
   ]
  },
  {
   "cell_type": "markdown",
   "id": "c4bd875f-046b-4942-be12-c35811ba9e7f",
   "metadata": {},
   "source": [
    "## Absolute value"
   ]
  },
  {
   "cell_type": "code",
   "execution_count": 11,
   "id": "754eb31e-ea71-4f10-8921-00a1d93230bd",
   "metadata": {},
   "outputs": [
    {
     "data": {
      "text/plain": [
       "array([2, 1, 0, 1, 2])"
      ]
     },
     "execution_count": 11,
     "metadata": {},
     "output_type": "execute_result"
    }
   ],
   "source": [
    "x = np.array([-2, -1, 0, 1, 2])\n",
    "abs(x)"
   ]
  },
  {
   "cell_type": "code",
   "execution_count": 12,
   "id": "bc5936a8-0b19-4f47-ba63-58901c567ced",
   "metadata": {},
   "outputs": [
    {
     "data": {
      "text/plain": [
       "array([2, 1, 0, 1, 2])"
      ]
     },
     "execution_count": 12,
     "metadata": {},
     "output_type": "execute_result"
    }
   ],
   "source": [
    "np.absolute(x)"
   ]
  },
  {
   "cell_type": "code",
   "execution_count": 13,
   "id": "fae2aab9-9af9-4754-9ccb-da43a394a2bb",
   "metadata": {},
   "outputs": [
    {
     "data": {
      "text/plain": [
       "array([2, 1, 0, 1, 2])"
      ]
     },
     "execution_count": 13,
     "metadata": {},
     "output_type": "execute_result"
    }
   ],
   "source": [
    "np.abs(x)"
   ]
  },
  {
   "cell_type": "code",
   "execution_count": 14,
   "id": "69473ff8-8841-43d2-81e3-64d80a16ad31",
   "metadata": {},
   "outputs": [],
   "source": [
    "x = np.array([3 - 4j, 4 - 3j, 2 + 0j, 0 + 1j])"
   ]
  },
  {
   "cell_type": "code",
   "execution_count": 15,
   "id": "b12ad9e5-e285-4137-abd1-a05d00b98e3d",
   "metadata": {},
   "outputs": [
    {
     "data": {
      "text/plain": [
       "array([5., 5., 2., 1.])"
      ]
     },
     "execution_count": 15,
     "metadata": {},
     "output_type": "execute_result"
    }
   ],
   "source": [
    "np.abs(x)"
   ]
  },
  {
   "cell_type": "markdown",
   "id": "fe0cb640-8a1e-413c-90b1-653c5fa47c5e",
   "metadata": {},
   "source": [
    "## Trigonometric functions"
   ]
  },
  {
   "cell_type": "code",
   "execution_count": 16,
   "id": "bdd25dc5-a3c6-4352-9140-4f999234d31e",
   "metadata": {},
   "outputs": [],
   "source": [
    "theta = np.linspace(0, np.pi, 3)"
   ]
  },
  {
   "cell_type": "code",
   "execution_count": 17,
   "id": "174e5d81-1300-4c99-b628-33f731283077",
   "metadata": {},
   "outputs": [
    {
     "name": "stdout",
     "output_type": "stream",
     "text": [
      "theta      =  [0.         1.57079633 3.14159265]\n",
      "sin(theta) =  [0.0000000e+00 1.0000000e+00 1.2246468e-16]\n",
      "cos(theta) =  [ 1.000000e+00  6.123234e-17 -1.000000e+00]\n",
      "tan(theta) =  [ 0.00000000e+00  1.63312394e+16 -1.22464680e-16]\n"
     ]
    }
   ],
   "source": [
    "print(\"theta      = \", theta)\n",
    "print(\"sin(theta) = \", np.sin(theta))\n",
    "print(\"cos(theta) = \", np.cos(theta))\n",
    "print(\"tan(theta) = \", np.tan(theta))"
   ]
  },
  {
   "cell_type": "code",
   "execution_count": 18,
   "id": "94cdd19d-2806-47dd-970c-1fba8fbe9b54",
   "metadata": {},
   "outputs": [
    {
     "name": "stdout",
     "output_type": "stream",
     "text": [
      "x         =  [-1, 0, 1]\n",
      "arcsin(x) =  [-1.57079633  0.          1.57079633]\n",
      "arccos(x) =  [3.14159265 1.57079633 0.        ]\n",
      "arctan(x) =  [-0.78539816  0.          0.78539816]\n"
     ]
    }
   ],
   "source": [
    "x = [-1, 0, 1]\n",
    "print(\"x         = \", x)\n",
    "print(\"arcsin(x) = \", np.arcsin(x))\n",
    "print(\"arccos(x) = \", np.arccos(x))\n",
    "print(\"arctan(x) = \", np.arctan(x))"
   ]
  },
  {
   "cell_type": "markdown",
   "id": "a87f967b-d3c8-44ad-9671-748d9be6724c",
   "metadata": {},
   "source": [
    "## Exponents and logarithms"
   ]
  },
  {
   "cell_type": "code",
   "execution_count": 19,
   "id": "ee25c86a-8167-4963-aa3f-b20b20e5dd0a",
   "metadata": {},
   "outputs": [],
   "source": [
    "x = [1, 2, 3]"
   ]
  },
  {
   "cell_type": "code",
   "execution_count": 20,
   "id": "774a263b-cec2-48b2-95fe-0472f1fd95fc",
   "metadata": {},
   "outputs": [
    {
     "name": "stdout",
     "output_type": "stream",
     "text": [
      "x     =  [1, 2, 3]\n",
      "e^x   =  [ 2.71828183  7.3890561  20.08553692]\n",
      "2^x   =  [2. 4. 8.]\n",
      "3^x   =  [ 3  9 27]\n"
     ]
    }
   ],
   "source": [
    "print(\"x     = \", x)\n",
    "print(\"e^x   = \", np.exp(x))\n",
    "print(\"2^x   = \", np.exp2(x))\n",
    "print(\"3^x   = \", np.power(3, x))"
   ]
  },
  {
   "cell_type": "code",
   "execution_count": 21,
   "id": "79e7146f-3342-4076-a854-afc6d81d44a6",
   "metadata": {},
   "outputs": [
    {
     "name": "stdout",
     "output_type": "stream",
     "text": [
      "x         =  [1, 2, 4, 10]\n",
      "ln(x)     =  [0.         0.69314718 1.38629436 2.30258509]\n",
      "log2(x)   =  [0.         1.         2.         3.32192809]\n",
      "log10(x)  =  [0.         0.30103    0.60205999 1.        ]\n"
     ]
    }
   ],
   "source": [
    "x = [1, 2, 4, 10]\n",
    "print(\"x         = \", x)\n",
    "print(\"ln(x)     = \", np.log(x))\n",
    "print(\"log2(x)   = \", np.log2(x))\n",
    "print(\"log10(x)  = \", np.log10(x))"
   ]
  },
  {
   "cell_type": "code",
   "execution_count": 22,
   "id": "a2ac6cc5-5a39-4051-bfb1-49a8514b5e8a",
   "metadata": {},
   "outputs": [
    {
     "name": "stdout",
     "output_type": "stream",
     "text": [
      "exp(x) = 1 =  [1.71828183e+00 6.38905610e+00 5.35981500e+01 2.20254658e+04]\n",
      "log(1 + x) =  [0.69314718 1.09861229 1.60943791 2.39789527]\n"
     ]
    }
   ],
   "source": [
    "x == [0, 0.001, 0.01, 0.1]\n",
    "print(\"exp(x) = 1 = \", np.expm1(x))\n",
    "print(\"log(1 + x) = \", np.log1p(x))"
   ]
  },
  {
   "cell_type": "code",
   "execution_count": 23,
   "id": "80add16e-4a9b-48fc-9742-09838525c5db",
   "metadata": {},
   "outputs": [],
   "source": [
    "from scipy import special"
   ]
  },
  {
   "cell_type": "code",
   "execution_count": 24,
   "id": "7f6254be-3bf9-472b-8526-eaa09de00036",
   "metadata": {},
   "outputs": [
    {
     "name": "stdout",
     "output_type": "stream",
     "text": [
      "gamma(x)    =  [1.0000e+00 2.4000e+01 3.6288e+05]\n",
      "ln|gama(x)| =  [ 0.          3.17805383 12.80182748]\n",
      "beta(x, 2)  =  [0.5        0.03333333 0.00909091]\n"
     ]
    }
   ],
   "source": [
    "# Gamma functions (generalized factorials) and related functions\n",
    "x = [1, 5, 10]\n",
    "print(\"gamma(x)    = \", special.gamma(x))\n",
    "print(\"ln|gama(x)| = \", special.gammaln(x))\n",
    "print(\"beta(x, 2)  = \", special.beta(x, 2))"
   ]
  },
  {
   "cell_type": "code",
   "execution_count": 25,
   "id": "72ca871c-b364-41d6-8ca8-e287e53c6a78",
   "metadata": {},
   "outputs": [
    {
     "name": "stdout",
     "output_type": "stream",
     "text": [
      "erf(x)    =  [0.         0.32862676 0.67780119 0.84270079]\n",
      "erfc(x)   =  [1.         0.67137324 0.32219881 0.15729921]\n",
      "erfinv(x) =  [0.         0.27246271 0.73286908        inf]\n"
     ]
    }
   ],
   "source": [
    "# Error function (integral og Gaussian)\n",
    "# its complement, and its inverse\n",
    "x = np.array([0, 0.3, 0.7, 1.0])\n",
    "print(\"erf(x)    = \", special.erf(x))\n",
    "print(\"erfc(x)   = \", special.erfc(x))\n",
    "print(\"erfinv(x) = \", special.erfinv(x))"
   ]
  },
  {
   "cell_type": "markdown",
   "id": "7bce3adc-8d54-4a9d-b0c4-63642762e593",
   "metadata": {},
   "source": [
    "# Advanced UFunc Features"
   ]
  },
  {
   "cell_type": "markdown",
   "id": "6192db60-1411-4a80-bb2d-c38bd49b9516",
   "metadata": {},
   "source": [
    "## Specifying output"
   ]
  },
  {
   "cell_type": "code",
   "execution_count": 26,
   "id": "726c3cec-ac43-4d90-9177-bb3ad4e02123",
   "metadata": {},
   "outputs": [
    {
     "name": "stdout",
     "output_type": "stream",
     "text": [
      "[ 0. 10. 20. 30. 40.]\n"
     ]
    }
   ],
   "source": [
    "x = np.arange(5)\n",
    "y = np.empty(5)\n",
    "np.multiply(x, 10, out=y)\n",
    "print(y)"
   ]
  },
  {
   "cell_type": "code",
   "execution_count": 27,
   "id": "1e00e984-6f3b-405b-afcb-fdc427fc5cac",
   "metadata": {},
   "outputs": [
    {
     "name": "stdout",
     "output_type": "stream",
     "text": [
      "[ 1.  0.  2.  0.  4.  0.  8.  0. 16.  0.]\n"
     ]
    }
   ],
   "source": [
    "y = np.zeros(10)\n",
    "np.power(2, x, out=y[::2])\n",
    "print(y)"
   ]
  },
  {
   "cell_type": "markdown",
   "id": "22f43bff-02b8-4a62-aa66-1091f533fe7c",
   "metadata": {},
   "source": [
    "## Aggregates"
   ]
  },
  {
   "cell_type": "code",
   "execution_count": 28,
   "id": "55263151-7566-434e-80a2-98acf09584d5",
   "metadata": {},
   "outputs": [
    {
     "data": {
      "text/plain": [
       "15"
      ]
     },
     "execution_count": 28,
     "metadata": {},
     "output_type": "execute_result"
    }
   ],
   "source": [
    "x = np.arange(1, 6)\n",
    "np.add.reduce(x)"
   ]
  },
  {
   "cell_type": "code",
   "execution_count": 29,
   "id": "60412687-dbb8-471d-80ab-f886fe5763b5",
   "metadata": {},
   "outputs": [
    {
     "data": {
      "text/plain": [
       "120"
      ]
     },
     "execution_count": 29,
     "metadata": {},
     "output_type": "execute_result"
    }
   ],
   "source": [
    "np.multiply.reduce(x)"
   ]
  },
  {
   "cell_type": "code",
   "execution_count": 30,
   "id": "bebc2ceb-7a38-4572-8277-08b067ed2b01",
   "metadata": {},
   "outputs": [
    {
     "data": {
      "text/plain": [
       "array([ 1,  3,  6, 10, 15])"
      ]
     },
     "execution_count": 30,
     "metadata": {},
     "output_type": "execute_result"
    }
   ],
   "source": [
    "np.add.accumulate(x)"
   ]
  },
  {
   "cell_type": "code",
   "execution_count": 31,
   "id": "6ab65b51-9fcc-44f5-bf89-4be2f4bbd2a6",
   "metadata": {},
   "outputs": [
    {
     "data": {
      "text/plain": [
       "array([  1,   2,   6,  24, 120])"
      ]
     },
     "execution_count": 31,
     "metadata": {},
     "output_type": "execute_result"
    }
   ],
   "source": [
    "np.multiply.accumulate(x)"
   ]
  },
  {
   "cell_type": "markdown",
   "id": "790eb99c-05d1-4137-8b57-82597ac7c6c3",
   "metadata": {},
   "source": [
    "## Outer products"
   ]
  },
  {
   "cell_type": "code",
   "execution_count": 32,
   "id": "908bcb9a-5b47-43a2-ac53-f397289ab8a0",
   "metadata": {},
   "outputs": [],
   "source": [
    "x = np.arange(1, 6)"
   ]
  },
  {
   "cell_type": "code",
   "execution_count": 33,
   "id": "de129784-06b8-4a76-83b9-48b82b09e6dd",
   "metadata": {},
   "outputs": [
    {
     "data": {
      "text/plain": [
       "array([[ 1,  2,  3,  4,  5],\n",
       "       [ 2,  4,  6,  8, 10],\n",
       "       [ 3,  6,  9, 12, 15],\n",
       "       [ 4,  8, 12, 16, 20],\n",
       "       [ 5, 10, 15, 20, 25]])"
      ]
     },
     "execution_count": 33,
     "metadata": {},
     "output_type": "execute_result"
    }
   ],
   "source": [
    "np.multiply.outer(x, x)"
   ]
  },
  {
   "cell_type": "code",
   "execution_count": null,
   "id": "abdabf68-c3ca-435e-9ed9-de6874d70d5f",
   "metadata": {},
   "outputs": [],
   "source": []
  }
 ],
 "metadata": {
  "kernelspec": {
   "display_name": "Python 3 (ipykernel)",
   "language": "python",
   "name": "python3"
  },
  "language_info": {
   "codemirror_mode": {
    "name": "ipython",
    "version": 3
   },
   "file_extension": ".py",
   "mimetype": "text/x-python",
   "name": "python",
   "nbconvert_exporter": "python",
   "pygments_lexer": "ipython3",
   "version": "3.9.13"
  }
 },
 "nbformat": 4,
 "nbformat_minor": 5
}
